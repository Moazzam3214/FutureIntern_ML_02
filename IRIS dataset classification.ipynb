{
 "cells": [
  {
   "cell_type": "markdown",
   "id": "9ff76404",
   "metadata": {
    "papermill": {
     "duration": 0.030877,
     "end_time": "2024-09-30T11:06:13.646320",
     "exception": false,
     "start_time": "2024-09-30T11:06:13.615443",
     "status": "completed"
    },
    "tags": []
   },
   "source": [
    "## Import Libraries\n"
   ]
  },
  {
   "cell_type": "code",
   "execution_count": 1,
   "id": "b944b2ef",
   "metadata": {
    "execution": {
     "iopub.execute_input": "2024-09-30T11:06:13.710288Z",
     "iopub.status.busy": "2024-09-30T11:06:13.709818Z",
     "iopub.status.idle": "2024-09-30T11:06:17.571810Z",
     "shell.execute_reply": "2024-09-30T11:06:17.570744Z"
    },
    "papermill": {
     "duration": 3.897157,
     "end_time": "2024-09-30T11:06:17.574563",
     "exception": false,
     "start_time": "2024-09-30T11:06:13.677406",
     "status": "completed"
    },
    "tags": []
   },
   "outputs": [],
   "source": [
    "# import libraies\n",
    "import pandas as pd \n",
    "import numpy as np\n",
    "import matplotlib.pyplot as plt \n",
    "import seaborn as sns\n",
    "import plotly.express as px\n",
    "from sklearn.model_selection import train_test_split, GridSearchCV, cross_val_score\n",
    "from sklearn.preprocessing import OneHotEncoder, StandardScaler, LabelEncoder\n",
    "from sklearn.linear_model import LogisticRegression\n",
    "from sklearn.ensemble import RandomForestClassifier\n",
    "from sklearn.tree import DecisionTreeClassifier\n",
    "from sklearn.svm import SVC\n",
    "from sklearn.metrics import accuracy_score, recall_score, f1_score, confusion_matrix, roc_curve, auc, classification_report\n",
    "\n",
    "# import warnings\n",
    "import warnings\n",
    "warnings.filterwarnings('ignore')"
   ]
  },
  {
   "cell_type": "markdown",
   "id": "80e2e8a1",
   "metadata": {
    "papermill": {
     "duration": 0.030953,
     "end_time": "2024-09-30T11:06:17.638366",
     "exception": false,
     "start_time": "2024-09-30T11:06:17.607413",
     "status": "completed"
    },
    "tags": []
   },
   "source": [
    "## Import and Load the Data\n"
   ]
  },
  {
   "cell_type": "code",
   "execution_count": 2,
   "id": "277ec3d3",
   "metadata": {
    "execution": {
     "iopub.execute_input": "2024-09-30T11:06:17.703038Z",
     "iopub.status.busy": "2024-09-30T11:06:17.702358Z",
     "iopub.status.idle": "2024-09-30T11:06:19.081479Z",
     "shell.execute_reply": "2024-09-30T11:06:19.080151Z"
    },
    "papermill": {
     "duration": 1.414637,
     "end_time": "2024-09-30T11:06:19.084069",
     "exception": false,
     "start_time": "2024-09-30T11:06:17.669432",
     "status": "completed"
    },
    "tags": []
   },
   "outputs": [
    {
     "data": {
      "text/html": [
       "<div>\n",
       "<style scoped>\n",
       "    .dataframe tbody tr th:only-of-type {\n",
       "        vertical-align: middle;\n",
       "    }\n",
       "\n",
       "    .dataframe tbody tr th {\n",
       "        vertical-align: top;\n",
       "    }\n",
       "\n",
       "    .dataframe thead th {\n",
       "        text-align: right;\n",
       "    }\n",
       "</style>\n",
       "<table border=\"1\" class=\"dataframe\">\n",
       "  <thead>\n",
       "    <tr style=\"text-align: right;\">\n",
       "      <th></th>\n",
       "      <th>sepal_length</th>\n",
       "      <th>sepal_width</th>\n",
       "      <th>petal_length</th>\n",
       "      <th>petal_width</th>\n",
       "      <th>species</th>\n",
       "    </tr>\n",
       "  </thead>\n",
       "  <tbody>\n",
       "    <tr>\n",
       "      <th>0</th>\n",
       "      <td>5.1</td>\n",
       "      <td>3.5</td>\n",
       "      <td>1.4</td>\n",
       "      <td>0.2</td>\n",
       "      <td>setosa</td>\n",
       "    </tr>\n",
       "    <tr>\n",
       "      <th>1</th>\n",
       "      <td>4.9</td>\n",
       "      <td>3.0</td>\n",
       "      <td>1.4</td>\n",
       "      <td>0.2</td>\n",
       "      <td>setosa</td>\n",
       "    </tr>\n",
       "    <tr>\n",
       "      <th>2</th>\n",
       "      <td>4.7</td>\n",
       "      <td>3.2</td>\n",
       "      <td>1.3</td>\n",
       "      <td>0.2</td>\n",
       "      <td>setosa</td>\n",
       "    </tr>\n",
       "    <tr>\n",
       "      <th>3</th>\n",
       "      <td>4.6</td>\n",
       "      <td>3.1</td>\n",
       "      <td>1.5</td>\n",
       "      <td>0.2</td>\n",
       "      <td>setosa</td>\n",
       "    </tr>\n",
       "    <tr>\n",
       "      <th>4</th>\n",
       "      <td>5.0</td>\n",
       "      <td>3.6</td>\n",
       "      <td>1.4</td>\n",
       "      <td>0.2</td>\n",
       "      <td>setosa</td>\n",
       "    </tr>\n",
       "  </tbody>\n",
       "</table>\n",
       "</div>"
      ],
      "text/plain": [
       "   sepal_length  sepal_width  petal_length  petal_width species\n",
       "0           5.1          3.5           1.4          0.2  setosa\n",
       "1           4.9          3.0           1.4          0.2  setosa\n",
       "2           4.7          3.2           1.3          0.2  setosa\n",
       "3           4.6          3.1           1.5          0.2  setosa\n",
       "4           5.0          3.6           1.4          0.2  setosa"
      ]
     },
     "execution_count": 2,
     "metadata": {},
     "output_type": "execute_result"
    }
   ],
   "source": [
    "# import the data\n",
    "df = sns.load_dataset(\"iris\")\n",
    "\n",
    "# show the data\n",
    "df.head()"
   ]
  },
  {
   "cell_type": "code",
   "execution_count": 3,
   "id": "ce4cdb5c",
   "metadata": {
    "execution": {
     "iopub.execute_input": "2024-09-30T11:06:19.148980Z",
     "iopub.status.busy": "2024-09-30T11:06:19.148494Z",
     "iopub.status.idle": "2024-09-30T11:06:19.164441Z",
     "shell.execute_reply": "2024-09-30T11:06:19.163131Z"
    },
    "papermill": {
     "duration": 0.051355,
     "end_time": "2024-09-30T11:06:19.166901",
     "exception": false,
     "start_time": "2024-09-30T11:06:19.115546",
     "status": "completed"
    },
    "tags": []
   },
   "outputs": [
    {
     "data": {
      "text/html": [
       "<div>\n",
       "<style scoped>\n",
       "    .dataframe tbody tr th:only-of-type {\n",
       "        vertical-align: middle;\n",
       "    }\n",
       "\n",
       "    .dataframe tbody tr th {\n",
       "        vertical-align: top;\n",
       "    }\n",
       "\n",
       "    .dataframe thead th {\n",
       "        text-align: right;\n",
       "    }\n",
       "</style>\n",
       "<table border=\"1\" class=\"dataframe\">\n",
       "  <thead>\n",
       "    <tr style=\"text-align: right;\">\n",
       "      <th></th>\n",
       "      <th>sepal_length</th>\n",
       "      <th>sepal_width</th>\n",
       "      <th>petal_length</th>\n",
       "      <th>petal_width</th>\n",
       "      <th>species</th>\n",
       "    </tr>\n",
       "  </thead>\n",
       "  <tbody>\n",
       "    <tr>\n",
       "      <th>145</th>\n",
       "      <td>6.7</td>\n",
       "      <td>3.0</td>\n",
       "      <td>5.2</td>\n",
       "      <td>2.3</td>\n",
       "      <td>virginica</td>\n",
       "    </tr>\n",
       "    <tr>\n",
       "      <th>146</th>\n",
       "      <td>6.3</td>\n",
       "      <td>2.5</td>\n",
       "      <td>5.0</td>\n",
       "      <td>1.9</td>\n",
       "      <td>virginica</td>\n",
       "    </tr>\n",
       "    <tr>\n",
       "      <th>147</th>\n",
       "      <td>6.5</td>\n",
       "      <td>3.0</td>\n",
       "      <td>5.2</td>\n",
       "      <td>2.0</td>\n",
       "      <td>virginica</td>\n",
       "    </tr>\n",
       "    <tr>\n",
       "      <th>148</th>\n",
       "      <td>6.2</td>\n",
       "      <td>3.4</td>\n",
       "      <td>5.4</td>\n",
       "      <td>2.3</td>\n",
       "      <td>virginica</td>\n",
       "    </tr>\n",
       "    <tr>\n",
       "      <th>149</th>\n",
       "      <td>5.9</td>\n",
       "      <td>3.0</td>\n",
       "      <td>5.1</td>\n",
       "      <td>1.8</td>\n",
       "      <td>virginica</td>\n",
       "    </tr>\n",
       "  </tbody>\n",
       "</table>\n",
       "</div>"
      ],
      "text/plain": [
       "     sepal_length  sepal_width  petal_length  petal_width    species\n",
       "145           6.7          3.0           5.2          2.3  virginica\n",
       "146           6.3          2.5           5.0          1.9  virginica\n",
       "147           6.5          3.0           5.2          2.0  virginica\n",
       "148           6.2          3.4           5.4          2.3  virginica\n",
       "149           5.9          3.0           5.1          1.8  virginica"
      ]
     },
     "execution_count": 3,
     "metadata": {},
     "output_type": "execute_result"
    }
   ],
   "source": [
    "# show the tail of the data\n",
    "df.tail()"
   ]
  },
  {
   "cell_type": "markdown",
   "id": "84a57720",
   "metadata": {
    "papermill": {
     "duration": 0.031493,
     "end_time": "2024-09-30T11:06:19.229724",
     "exception": false,
     "start_time": "2024-09-30T11:06:19.198231",
     "status": "completed"
    },
    "tags": []
   },
   "source": [
    "## Exploratory Data Analysis\n"
   ]
  },
  {
   "cell_type": "markdown",
   "id": "a0b074a1",
   "metadata": {
    "papermill": {
     "duration": 0.031331,
     "end_time": "2024-09-30T11:06:19.292647",
     "exception": false,
     "start_time": "2024-09-30T11:06:19.261316",
     "status": "completed"
    },
    "tags": []
   },
   "source": [
    "### 1. Data Overview\n"
   ]
  },
  {
   "cell_type": "code",
   "execution_count": 4,
   "id": "4fe49142",
   "metadata": {
    "execution": {
     "iopub.execute_input": "2024-09-30T11:06:19.358762Z",
     "iopub.status.busy": "2024-09-30T11:06:19.358279Z",
     "iopub.status.idle": "2024-09-30T11:06:19.365486Z",
     "shell.execute_reply": "2024-09-30T11:06:19.364234Z"
    },
    "papermill": {
     "duration": 0.043737,
     "end_time": "2024-09-30T11:06:19.368017",
     "exception": false,
     "start_time": "2024-09-30T11:06:19.324280",
     "status": "completed"
    },
    "tags": []
   },
   "outputs": [
    {
     "data": {
      "text/plain": [
       "(150, 5)"
      ]
     },
     "execution_count": 4,
     "metadata": {},
     "output_type": "execute_result"
    }
   ],
   "source": [
    "# show the shape of the data\n",
    "df.shape"
   ]
  },
  {
   "cell_type": "code",
   "execution_count": 5,
   "id": "21d2008a",
   "metadata": {
    "execution": {
     "iopub.execute_input": "2024-09-30T11:06:19.434934Z",
     "iopub.status.busy": "2024-09-30T11:06:19.434461Z",
     "iopub.status.idle": "2024-09-30T11:06:19.458200Z",
     "shell.execute_reply": "2024-09-30T11:06:19.456975Z"
    },
    "papermill": {
     "duration": 0.061178,
     "end_time": "2024-09-30T11:06:19.461692",
     "exception": false,
     "start_time": "2024-09-30T11:06:19.400514",
     "status": "completed"
    },
    "tags": []
   },
   "outputs": [
    {
     "name": "stdout",
     "output_type": "stream",
     "text": [
      "<class 'pandas.core.frame.DataFrame'>\n",
      "RangeIndex: 150 entries, 0 to 149\n",
      "Data columns (total 5 columns):\n",
      " #   Column        Non-Null Count  Dtype  \n",
      "---  ------        --------------  -----  \n",
      " 0   sepal_length  150 non-null    float64\n",
      " 1   sepal_width   150 non-null    float64\n",
      " 2   petal_length  150 non-null    float64\n",
      " 3   petal_width   150 non-null    float64\n",
      " 4   species       150 non-null    object \n",
      "dtypes: float64(4), object(1)\n",
      "memory usage: 6.0+ KB\n"
     ]
    }
   ],
   "source": [
    "# show the info of the data\n",
    "df.info()"
   ]
  },
  {
   "cell_type": "code",
   "execution_count": 6,
   "id": "43f02047",
   "metadata": {
    "execution": {
     "iopub.execute_input": "2024-09-30T11:06:19.528939Z",
     "iopub.status.busy": "2024-09-30T11:06:19.527850Z",
     "iopub.status.idle": "2024-09-30T11:06:19.555090Z",
     "shell.execute_reply": "2024-09-30T11:06:19.553971Z"
    },
    "papermill": {
     "duration": 0.063012,
     "end_time": "2024-09-30T11:06:19.557473",
     "exception": false,
     "start_time": "2024-09-30T11:06:19.494461",
     "status": "completed"
    },
    "tags": []
   },
   "outputs": [
    {
     "data": {
      "text/html": [
       "<div>\n",
       "<style scoped>\n",
       "    .dataframe tbody tr th:only-of-type {\n",
       "        vertical-align: middle;\n",
       "    }\n",
       "\n",
       "    .dataframe tbody tr th {\n",
       "        vertical-align: top;\n",
       "    }\n",
       "\n",
       "    .dataframe thead th {\n",
       "        text-align: right;\n",
       "    }\n",
       "</style>\n",
       "<table border=\"1\" class=\"dataframe\">\n",
       "  <thead>\n",
       "    <tr style=\"text-align: right;\">\n",
       "      <th></th>\n",
       "      <th>sepal_length</th>\n",
       "      <th>sepal_width</th>\n",
       "      <th>petal_length</th>\n",
       "      <th>petal_width</th>\n",
       "    </tr>\n",
       "  </thead>\n",
       "  <tbody>\n",
       "    <tr>\n",
       "      <th>count</th>\n",
       "      <td>150.000000</td>\n",
       "      <td>150.000000</td>\n",
       "      <td>150.000000</td>\n",
       "      <td>150.000000</td>\n",
       "    </tr>\n",
       "    <tr>\n",
       "      <th>mean</th>\n",
       "      <td>5.843333</td>\n",
       "      <td>3.057333</td>\n",
       "      <td>3.758000</td>\n",
       "      <td>1.199333</td>\n",
       "    </tr>\n",
       "    <tr>\n",
       "      <th>std</th>\n",
       "      <td>0.828066</td>\n",
       "      <td>0.435866</td>\n",
       "      <td>1.765298</td>\n",
       "      <td>0.762238</td>\n",
       "    </tr>\n",
       "    <tr>\n",
       "      <th>min</th>\n",
       "      <td>4.300000</td>\n",
       "      <td>2.000000</td>\n",
       "      <td>1.000000</td>\n",
       "      <td>0.100000</td>\n",
       "    </tr>\n",
       "    <tr>\n",
       "      <th>25%</th>\n",
       "      <td>5.100000</td>\n",
       "      <td>2.800000</td>\n",
       "      <td>1.600000</td>\n",
       "      <td>0.300000</td>\n",
       "    </tr>\n",
       "    <tr>\n",
       "      <th>50%</th>\n",
       "      <td>5.800000</td>\n",
       "      <td>3.000000</td>\n",
       "      <td>4.350000</td>\n",
       "      <td>1.300000</td>\n",
       "    </tr>\n",
       "    <tr>\n",
       "      <th>75%</th>\n",
       "      <td>6.400000</td>\n",
       "      <td>3.300000</td>\n",
       "      <td>5.100000</td>\n",
       "      <td>1.800000</td>\n",
       "    </tr>\n",
       "    <tr>\n",
       "      <th>max</th>\n",
       "      <td>7.900000</td>\n",
       "      <td>4.400000</td>\n",
       "      <td>6.900000</td>\n",
       "      <td>2.500000</td>\n",
       "    </tr>\n",
       "  </tbody>\n",
       "</table>\n",
       "</div>"
      ],
      "text/plain": [
       "       sepal_length  sepal_width  petal_length  petal_width\n",
       "count    150.000000   150.000000    150.000000   150.000000\n",
       "mean       5.843333     3.057333      3.758000     1.199333\n",
       "std        0.828066     0.435866      1.765298     0.762238\n",
       "min        4.300000     2.000000      1.000000     0.100000\n",
       "25%        5.100000     2.800000      1.600000     0.300000\n",
       "50%        5.800000     3.000000      4.350000     1.300000\n",
       "75%        6.400000     3.300000      5.100000     1.800000\n",
       "max        7.900000     4.400000      6.900000     2.500000"
      ]
     },
     "execution_count": 6,
     "metadata": {},
     "output_type": "execute_result"
    }
   ],
   "source": [
    "# show the summary statistics of the data\n",
    "df.describe()"
   ]
  },
  {
   "cell_type": "code",
   "execution_count": 7,
   "id": "7684d6d2",
   "metadata": {
    "execution": {
     "iopub.execute_input": "2024-09-30T11:06:19.623553Z",
     "iopub.status.busy": "2024-09-30T11:06:19.622871Z",
     "iopub.status.idle": "2024-09-30T11:06:19.632665Z",
     "shell.execute_reply": "2024-09-30T11:06:19.631473Z"
    },
    "papermill": {
     "duration": 0.045654,
     "end_time": "2024-09-30T11:06:19.635148",
     "exception": false,
     "start_time": "2024-09-30T11:06:19.589494",
     "status": "completed"
    },
    "tags": []
   },
   "outputs": [
    {
     "data": {
      "text/plain": [
       "sepal_length    0\n",
       "sepal_width     0\n",
       "petal_length    0\n",
       "petal_width     0\n",
       "species         0\n",
       "dtype: int64"
      ]
     },
     "execution_count": 7,
     "metadata": {},
     "output_type": "execute_result"
    }
   ],
   "source": [
    "# Check if there any missing values in the dataset\n",
    "df.isnull().sum()"
   ]
  },
  {
   "cell_type": "markdown",
   "id": "88a19a8e",
   "metadata": {
    "papermill": {
     "duration": 0.031875,
     "end_time": "2024-09-30T11:06:19.699039",
     "exception": false,
     "start_time": "2024-09-30T11:06:19.667164",
     "status": "completed"
    },
    "tags": []
   },
   "source": [
    "So, Dataset is fine. No missing values found.\n"
   ]
  },
  {
   "cell_type": "markdown",
   "id": "52532ce9",
   "metadata": {
    "papermill": {
     "duration": 0.055859,
     "end_time": "2024-09-30T11:06:37.704320",
     "exception": false,
     "start_time": "2024-09-30T11:06:37.648461",
     "status": "completed"
    },
    "tags": []
   },
   "source": [
    "### Encoding of Categorical Features\n"
   ]
  },
  {
   "cell_type": "code",
   "execution_count": 18,
   "id": "1e38fad8",
   "metadata": {
    "execution": {
     "iopub.execute_input": "2024-09-30T11:06:37.818083Z",
     "iopub.status.busy": "2024-09-30T11:06:37.817081Z",
     "iopub.status.idle": "2024-09-30T11:06:37.824754Z",
     "shell.execute_reply": "2024-09-30T11:06:37.823699Z"
    },
    "papermill": {
     "duration": 0.066801,
     "end_time": "2024-09-30T11:06:37.827132",
     "exception": false,
     "start_time": "2024-09-30T11:06:37.760331",
     "status": "completed"
    },
    "tags": []
   },
   "outputs": [
    {
     "data": {
      "text/plain": [
       "array(['setosa', 'versicolor', 'virginica'], dtype=object)"
      ]
     },
     "execution_count": 18,
     "metadata": {},
     "output_type": "execute_result"
    }
   ],
   "source": [
    "# check the unique values in the target variable\n",
    "df[\"species\"].unique()"
   ]
  },
  {
   "cell_type": "code",
   "execution_count": 19,
   "id": "2ddf11a2",
   "metadata": {
    "execution": {
     "iopub.execute_input": "2024-09-30T11:06:37.941844Z",
     "iopub.status.busy": "2024-09-30T11:06:37.941388Z",
     "iopub.status.idle": "2024-09-30T11:06:37.951208Z",
     "shell.execute_reply": "2024-09-30T11:06:37.950046Z"
    },
    "papermill": {
     "duration": 0.071017,
     "end_time": "2024-09-30T11:06:37.953626",
     "exception": false,
     "start_time": "2024-09-30T11:06:37.882609",
     "status": "completed"
    },
    "tags": []
   },
   "outputs": [
    {
     "data": {
      "text/plain": [
       "species\n",
       "setosa        50\n",
       "versicolor    50\n",
       "virginica     50\n",
       "Name: count, dtype: int64"
      ]
     },
     "execution_count": 19,
     "metadata": {},
     "output_type": "execute_result"
    }
   ],
   "source": [
    "# check the count of each class\n",
    "df[\"species\"].value_counts()"
   ]
  },
  {
   "cell_type": "code",
   "execution_count": 20,
   "id": "f5975b1a",
   "metadata": {
    "execution": {
     "iopub.execute_input": "2024-09-30T11:06:38.068545Z",
     "iopub.status.busy": "2024-09-30T11:06:38.068076Z",
     "iopub.status.idle": "2024-09-30T11:06:38.074265Z",
     "shell.execute_reply": "2024-09-30T11:06:38.073120Z"
    },
    "papermill": {
     "duration": 0.065792,
     "end_time": "2024-09-30T11:06:38.076822",
     "exception": false,
     "start_time": "2024-09-30T11:06:38.011030",
     "status": "completed"
    },
    "tags": []
   },
   "outputs": [],
   "source": [
    "# initialize the label encoder\n",
    "le = LabelEncoder()\n",
    "df[\"species\"] = le.fit_transform(df[\"species\"])"
   ]
  },
  {
   "cell_type": "code",
   "execution_count": 21,
   "id": "21772483",
   "metadata": {
    "execution": {
     "iopub.execute_input": "2024-09-30T11:06:38.191126Z",
     "iopub.status.busy": "2024-09-30T11:06:38.190688Z",
     "iopub.status.idle": "2024-09-30T11:06:38.196495Z",
     "shell.execute_reply": "2024-09-30T11:06:38.195151Z"
    },
    "papermill": {
     "duration": 0.06559,
     "end_time": "2024-09-30T11:06:38.198833",
     "exception": false,
     "start_time": "2024-09-30T11:06:38.133243",
     "status": "completed"
    },
    "tags": []
   },
   "outputs": [],
   "source": [
    "# convert the encoded values to float\n",
    "df[\"species\"] = df[\"species\"].astype(float)"
   ]
  },
  {
   "cell_type": "markdown",
   "id": "462c8fa3",
   "metadata": {
    "papermill": {
     "duration": 0.055571,
     "end_time": "2024-09-30T11:06:38.310005",
     "exception": false,
     "start_time": "2024-09-30T11:06:38.254434",
     "status": "completed"
    },
    "tags": []
   },
   "source": [
    "### Correlation Between Features\n"
   ]
  },
  {
   "cell_type": "code",
   "execution_count": 22,
   "id": "990b5fcc",
   "metadata": {
    "execution": {
     "iopub.execute_input": "2024-09-30T11:06:38.424817Z",
     "iopub.status.busy": "2024-09-30T11:06:38.423789Z",
     "iopub.status.idle": "2024-09-30T11:06:38.879272Z",
     "shell.execute_reply": "2024-09-30T11:06:38.877834Z"
    },
    "papermill": {
     "duration": 0.515716,
     "end_time": "2024-09-30T11:06:38.881912",
     "exception": false,
     "start_time": "2024-09-30T11:06:38.366196",
     "status": "completed"
    },
    "tags": []
   },
   "outputs": [
    {
     "data": {
      "text/plain": [
       "<Axes: >"
      ]
     },
     "execution_count": 22,
     "metadata": {},
     "output_type": "execute_result"
    },
    {
     "data": {
      "image/png": "[encoded data removed]",
      "text/plain": [
       "<Figure size 640x480 with 2 Axes>"
      ]
     },
     "metadata": {},
     "output_type": "display_data"
    }
   ],
   "source": [
    "# correlation matrix\n",
    "corr = df.corr()\n",
    "sns.heatmap(corr, annot=True)"
   ]
  },
  {
   "cell_type": "markdown",
   "id": "5beab075",
   "metadata": {
    "papermill": {
     "duration": 0.058297,
     "end_time": "2024-09-30T11:06:38.999513",
     "exception": false,
     "start_time": "2024-09-30T11:06:38.941216",
     "status": "completed"
    },
    "tags": []
   },
   "source": [
    "### Detailed Plotting\n"
   ]
  },
  {
   "cell_type": "code",
   "execution_count": 23,
   "id": "69241655",
   "metadata": {
    "execution": {
     "iopub.execute_input": "2024-09-30T11:06:39.117533Z",
     "iopub.status.busy": "2024-09-30T11:06:39.116588Z",
     "iopub.status.idle": "2024-09-30T11:06:39.537273Z",
     "shell.execute_reply": "2024-09-30T11:06:39.536036Z"
    },
    "papermill": {
     "duration": 0.481868,
     "end_time": "2024-09-30T11:06:39.539669",
     "exception": false,
     "start_time": "2024-09-30T11:06:39.057801",
     "status": "completed"
    },
    "tags": []
   },
   "outputs": [
    {
     "data": {
      "text/plain": [
       "<Axes: xlabel='species', ylabel='sepal_length'>"
      ]
     },
     "execution_count": 23,
     "metadata": {},
     "output_type": "execute_result"
    },
    {
     "data": {
      "image/png": "[encoded data removed]",
      "text/plain": [
       "<Figure size 1500x800 with 1 Axes>"
      ]
     },
     "metadata": {},
     "output_type": "display_data"
    }
   ],
   "source": [
    "# relationship between species and sepal length\n",
    "plt.figure(figsize=(15,8))\n",
    "sns.boxplot(x='species', y='sepal_length', data=df.sort_values('sepal_length', ascending=False), hue='species')"
   ]
  },
  {
   "cell_type": "code",
   "execution_count": 24,
   "id": "000351dc",
   "metadata": {
    "execution": {
     "iopub.execute_input": "2024-09-30T11:06:39.658099Z",
     "iopub.status.busy": "2024-09-30T11:06:39.657136Z",
     "iopub.status.idle": "2024-09-30T11:06:40.080359Z",
     "shell.execute_reply": "2024-09-30T11:06:40.079202Z"
    },
    "papermill": {
     "duration": 0.484954,
     "end_time": "2024-09-30T11:06:40.082757",
     "exception": false,
     "start_time": "2024-09-30T11:06:39.597803",
     "status": "completed"
    },
    "tags": []
   },
   "outputs": [
    {
     "data": {
      "text/plain": [
       "<Axes: xlabel='sepal_width', ylabel='sepal_length'>"
      ]
     },
     "execution_count": 24,
     "metadata": {},
     "output_type": "execute_result"
    },
    {
     "data": {
      "image/png": "[encoded data removed]",
      "text/plain": [
       "<Figure size 640x480 with 1 Axes>"
      ]
     },
     "metadata": {},
     "output_type": "display_data"
    }
   ],
   "source": [
    "# Relationship between species and sepal width\n",
    "sns.scatterplot(df, x='sepal_width', y='sepal_length', hue='species', palette='viridis')"
   ]
  },
  {
   "cell_type": "markdown",
   "id": "cb2b6dff",
   "metadata": {
    "papermill": {
     "duration": 0.06947,
     "end_time": "2024-09-30T11:06:52.401577",
     "exception": false,
     "start_time": "2024-09-30T11:06:52.332107",
     "status": "completed"
    },
    "tags": []
   },
   "source": [
    "## Data Preprocessing\n"
   ]
  },
  {
   "cell_type": "markdown",
   "id": "4bc317d4",
   "metadata": {
    "papermill": {
     "duration": 0.070104,
     "end_time": "2024-09-30T11:06:52.541615",
     "exception": false,
     "start_time": "2024-09-30T11:06:52.471511",
     "status": "completed"
    },
    "tags": []
   },
   "source": [
    "### Feature Scaling\n"
   ]
  },
  {
   "cell_type": "code",
   "execution_count": 31,
   "id": "235cca36",
   "metadata": {
    "execution": {
     "iopub.execute_input": "2024-09-30T11:06:52.694851Z",
     "iopub.status.busy": "2024-09-30T11:06:52.693844Z",
     "iopub.status.idle": "2024-09-30T11:06:52.707343Z",
     "shell.execute_reply": "2024-09-30T11:06:52.706171Z"
    },
    "papermill": {
     "duration": 0.089783,
     "end_time": "2024-09-30T11:06:52.710057",
     "exception": false,
     "start_time": "2024-09-30T11:06:52.620274",
     "status": "completed"
    },
    "tags": []
   },
   "outputs": [],
   "source": [
    "from sklearn.preprocessing import StandardScaler\n",
    "\n",
    "# Initialize the StandardScaler\n",
    "scaler = StandardScaler()\n",
    "\n",
    "# Fit and transform the feature columns (excluding the target 'species')\n",
    "X_scaled = scaler.fit_transform(df.drop('species', axis=1))\n",
    "\n",
    "# Update the dataframe\n",
    "df_scaled = pd.DataFrame(X_scaled, columns=['sepal_length', 'sepal_width', 'petal_length', 'petal_width'])\n",
    "\n",
    "# Add the species column back to the scaled dataframe\n",
    "df_scaled['species'] = df['species']\n"
   ]
  },
  {
   "cell_type": "code",
   "execution_count": 32,
   "id": "9a3f6295",
   "metadata": {
    "execution": {
     "iopub.execute_input": "2024-09-30T11:06:52.859570Z",
     "iopub.status.busy": "2024-09-30T11:06:52.858350Z",
     "iopub.status.idle": "2024-09-30T11:06:52.876863Z",
     "shell.execute_reply": "2024-09-30T11:06:52.875578Z"
    },
    "papermill": {
     "duration": 0.098219,
     "end_time": "2024-09-30T11:06:52.879257",
     "exception": false,
     "start_time": "2024-09-30T11:06:52.781038",
     "status": "completed"
    },
    "tags": []
   },
   "outputs": [
    {
     "data": {
      "text/html": [
       "<div>\n",
       "<style scoped>\n",
       "    .dataframe tbody tr th:only-of-type {\n",
       "        vertical-align: middle;\n",
       "    }\n",
       "\n",
       "    .dataframe tbody tr th {\n",
       "        vertical-align: top;\n",
       "    }\n",
       "\n",
       "    .dataframe thead th {\n",
       "        text-align: right;\n",
       "    }\n",
       "</style>\n",
       "<table border=\"1\" class=\"dataframe\">\n",
       "  <thead>\n",
       "    <tr style=\"text-align: right;\">\n",
       "      <th></th>\n",
       "      <th>sepal_length</th>\n",
       "      <th>sepal_width</th>\n",
       "      <th>petal_length</th>\n",
       "      <th>petal_width</th>\n",
       "      <th>species</th>\n",
       "    </tr>\n",
       "  </thead>\n",
       "  <tbody>\n",
       "    <tr>\n",
       "      <th>0</th>\n",
       "      <td>-0.900681</td>\n",
       "      <td>1.019004</td>\n",
       "      <td>-1.340227</td>\n",
       "      <td>-1.315444</td>\n",
       "      <td>0.0</td>\n",
       "    </tr>\n",
       "    <tr>\n",
       "      <th>1</th>\n",
       "      <td>-1.143017</td>\n",
       "      <td>-0.131979</td>\n",
       "      <td>-1.340227</td>\n",
       "      <td>-1.315444</td>\n",
       "      <td>0.0</td>\n",
       "    </tr>\n",
       "    <tr>\n",
       "      <th>2</th>\n",
       "      <td>-1.385353</td>\n",
       "      <td>0.328414</td>\n",
       "      <td>-1.397064</td>\n",
       "      <td>-1.315444</td>\n",
       "      <td>0.0</td>\n",
       "    </tr>\n",
       "    <tr>\n",
       "      <th>3</th>\n",
       "      <td>-1.506521</td>\n",
       "      <td>0.098217</td>\n",
       "      <td>-1.283389</td>\n",
       "      <td>-1.315444</td>\n",
       "      <td>0.0</td>\n",
       "    </tr>\n",
       "    <tr>\n",
       "      <th>4</th>\n",
       "      <td>-1.021849</td>\n",
       "      <td>1.249201</td>\n",
       "      <td>-1.340227</td>\n",
       "      <td>-1.315444</td>\n",
       "      <td>0.0</td>\n",
       "    </tr>\n",
       "  </tbody>\n",
       "</table>\n",
       "</div>"
      ],
      "text/plain": [
       "   sepal_length  sepal_width  petal_length  petal_width  species\n",
       "0     -0.900681     1.019004     -1.340227    -1.315444      0.0\n",
       "1     -1.143017    -0.131979     -1.340227    -1.315444      0.0\n",
       "2     -1.385353     0.328414     -1.397064    -1.315444      0.0\n",
       "3     -1.506521     0.098217     -1.283389    -1.315444      0.0\n",
       "4     -1.021849     1.249201     -1.340227    -1.315444      0.0"
      ]
     },
     "execution_count": 32,
     "metadata": {},
     "output_type": "execute_result"
    }
   ],
   "source": [
    "df_scaled.head()"
   ]
  },
  {
   "cell_type": "markdown",
   "id": "e280e2c0",
   "metadata": {
    "papermill": {
     "duration": 0.086477,
     "end_time": "2024-09-30T11:06:53.040489",
     "exception": false,
     "start_time": "2024-09-30T11:06:52.954012",
     "status": "completed"
    },
    "tags": []
   },
   "source": [
    "## Data Splitting\n"
   ]
  },
  {
   "cell_type": "code",
   "execution_count": 33,
   "id": "5c1e5019",
   "metadata": {
    "execution": {
     "iopub.execute_input": "2024-09-30T11:06:53.188491Z",
     "iopub.status.busy": "2024-09-30T11:06:53.187943Z",
     "iopub.status.idle": "2024-09-30T11:06:53.203434Z",
     "shell.execute_reply": "2024-09-30T11:06:53.201916Z"
    },
    "papermill": {
     "duration": 0.091079,
     "end_time": "2024-09-30T11:06:53.206157",
     "exception": false,
     "start_time": "2024-09-30T11:06:53.115078",
     "status": "completed"
    },
    "tags": []
   },
   "outputs": [
    {
     "name": "stdout",
     "output_type": "stream",
     "text": [
      "X_train shape: (120, 4)\n",
      "X_test shape: (30, 4)\n",
      "y_train shape: (120,)\n",
      "y_test shape: (30,)\n"
     ]
    }
   ],
   "source": [
    "# define features (X) and target (y)\n",
    "X = df_scaled.drop(\"species\", axis=1)\n",
    "y = df_scaled[\"species\"]\n",
    "\n",
    "# train test split the data\n",
    "X_train, X_test, y_train, y_test = train_test_split(X, y, test_size=0.2, random_state=42)\n",
    "\n",
    "# check the sizes of the split\n",
    "print(\"X_train shape:\", X_train.shape)\n",
    "print(\"X_test shape:\", X_test.shape)\n",
    "print(\"y_train shape:\", y_train.shape)\n",
    "print(\"y_test shape:\", y_test.shape)"
   ]
  },
  {
   "cell_type": "markdown",
   "id": "84d86fbf",
   "metadata": {
    "papermill": {
     "duration": 0.07049,
     "end_time": "2024-09-30T11:06:53.347860",
     "exception": false,
     "start_time": "2024-09-30T11:06:53.277370",
     "status": "completed"
    },
    "tags": []
   },
   "source": [
    "## Model Selection\n"
   ]
  },
  {
   "cell_type": "markdown",
   "id": "11c5c098",
   "metadata": {
    "papermill": {
     "duration": 0.070708,
     "end_time": "2024-09-30T11:06:53.489810",
     "exception": false,
     "start_time": "2024-09-30T11:06:53.419102",
     "status": "completed"
    },
    "tags": []
   },
   "source": [
    "### 1. Logistic Regression\n"
   ]
  },
  {
   "cell_type": "code",
   "execution_count": 34,
   "id": "52e06dfe",
   "metadata": {
    "execution": {
     "iopub.execute_input": "2024-09-30T11:06:53.635235Z",
     "iopub.status.busy": "2024-09-30T11:06:53.634219Z",
     "iopub.status.idle": "2024-09-30T11:06:53.665008Z",
     "shell.execute_reply": "2024-09-30T11:06:53.663687Z"
    },
    "papermill": {
     "duration": 0.106983,
     "end_time": "2024-09-30T11:06:53.667725",
     "exception": false,
     "start_time": "2024-09-30T11:06:53.560742",
     "status": "completed"
    },
    "tags": []
   },
   "outputs": [
    {
     "data": {
      "text/html": [
       "<style>#sk-container-id-1 {color: black;background-color: white;}#sk-container-id-1 pre{padding: 0;}#sk-container-id-1 div.sk-toggleable {background-color: white;}#sk-container-id-1 label.sk-toggleable__label {cursor: pointer;display: block;width: 100%;margin-bottom: 0;padding: 0.3em;box-sizing: border-box;text-align: center;}#sk-container-id-1 label.sk-toggleable__label-arrow:before {content: \"▸\";float: left;margin-right: 0.25em;color: #696969;}#sk-container-id-1 label.sk-toggleable__label-arrow:hover:before {color: black;}#sk-container-id-1 div.sk-estimator:hover label.sk-toggleable__label-arrow:before {color: black;}#sk-container-id-1 div.sk-toggleable__content {max-height: 0;max-width: 0;overflow: hidden;text-align: left;background-color: #f0f8ff;}#sk-container-id-1 div.sk-toggleable__content pre {margin: 0.2em;color: black;border-radius: 0.25em;background-color: #f0f8ff;}#sk-container-id-1 input.sk-toggleable__control:checked~div.sk-toggleable__content {max-height: 200px;max-width: 100%;overflow: auto;}#sk-container-id-1 input.sk-toggleable__control:checked~label.sk-toggleable__label-arrow:before {content: \"▾\";}#sk-container-id-1 div.sk-estimator input.sk-toggleable__control:checked~label.sk-toggleable__label {background-color: #d4ebff;}#sk-container-id-1 div.sk-label input.sk-toggleable__control:checked~label.sk-toggleable__label {background-color: #d4ebff;}#sk-container-id-1 input.sk-hidden--visually {border: 0;clip: rect(1px 1px 1px 1px);clip: rect(1px, 1px, 1px, 1px);height: 1px;margin: -1px;overflow: hidden;padding: 0;position: absolute;width: 1px;}#sk-container-id-1 div.sk-estimator {font-family: monospace;background-color: #f0f8ff;border: 1px dotted black;border-radius: 0.25em;box-sizing: border-box;margin-bottom: 0.5em;}#sk-container-id-1 div.sk-estimator:hover {background-color: #d4ebff;}#sk-container-id-1 div.sk-parallel-item::after {content: \"\";width: 100%;border-bottom: 1px solid gray;flex-grow: 1;}#sk-container-id-1 div.sk-label:hover label.sk-toggleable__label {background-color: #d4ebff;}#sk-container-id-1 div.sk-serial::before {content: \"\";position: absolute;border-left: 1px solid gray;box-sizing: border-box;top: 0;bottom: 0;left: 50%;z-index: 0;}#sk-container-id-1 div.sk-serial {display: flex;flex-direction: column;align-items: center;background-color: white;padding-right: 0.2em;padding-left: 0.2em;position: relative;}#sk-container-id-1 div.sk-item {position: relative;z-index: 1;}#sk-container-id-1 div.sk-parallel {display: flex;align-items: stretch;justify-content: center;background-color: white;position: relative;}#sk-container-id-1 div.sk-item::before, #sk-container-id-1 div.sk-parallel-item::before {content: \"\";position: absolute;border-left: 1px solid gray;box-sizing: border-box;top: 0;bottom: 0;left: 50%;z-index: -1;}#sk-container-id-1 div.sk-parallel-item {display: flex;flex-direction: column;z-index: 1;position: relative;background-color: white;}#sk-container-id-1 div.sk-parallel-item:first-child::after {align-self: flex-end;width: 50%;}#sk-container-id-1 div.sk-parallel-item:last-child::after {align-self: flex-start;width: 50%;}#sk-container-id-1 div.sk-parallel-item:only-child::after {width: 0;}#sk-container-id-1 div.sk-dashed-wrapped {border: 1px dashed gray;margin: 0 0.4em 0.5em 0.4em;box-sizing: border-box;padding-bottom: 0.4em;background-color: white;}#sk-container-id-1 div.sk-label label {font-family: monospace;font-weight: bold;display: inline-block;line-height: 1.2em;}#sk-container-id-1 div.sk-label-container {text-align: center;}#sk-container-id-1 div.sk-container {/* jupyter's `normalize.less` sets `[hidden] { display: none; }` but bootstrap.min.css set `[hidden] { display: none !important; }` so we also need the `!important` here to be able to override the default hidden behavior on the sphinx rendered scikit-learn.org. See: https://github.com/scikit-learn/scikit-learn/issues/21755 */display: inline-block !important;position: relative;}#sk-container-id-1 div.sk-text-repr-fallback {display: none;}</style><div id=\"sk-container-id-1\" class=\"sk-top-container\"><div class=\"sk-text-repr-fallback\"><pre>LogisticRegression()</pre><b>In a Jupyter environment, please rerun this cell to show the HTML representation or trust the notebook. <br />On GitHub, the HTML representation is unable to render, please try loading this page with nbviewer.org.</b></div><div class=\"sk-container\" hidden><div class=\"sk-item\"><div class=\"sk-estimator sk-toggleable\"><input class=\"sk-toggleable__control sk-hidden--visually\" id=\"sk-estimator-id-1\" type=\"checkbox\" checked><label for=\"sk-estimator-id-1\" class=\"sk-toggleable__label sk-toggleable__label-arrow\">LogisticRegression</label><div class=\"sk-toggleable__content\"><pre>LogisticRegression()</pre></div></div></div></div></div>"
      ],
      "text/plain": [
       "LogisticRegression()"
      ]
     },
     "execution_count": 34,
     "metadata": {},
     "output_type": "execute_result"
    }
   ],
   "source": [
    "from sklearn.linear_model import LogisticRegression\n",
    "\n",
    "# initialize the model\n",
    "log_reg = LogisticRegression()\n",
    "\n",
    "# fit the model\n",
    "log_reg.fit(X_train, y_train)"
   ]
  },
  {
   "cell_type": "code",
   "execution_count": 35,
   "id": "1d9aba12",
   "metadata": {
    "execution": {
     "iopub.execute_input": "2024-09-30T11:06:53.815981Z",
     "iopub.status.busy": "2024-09-30T11:06:53.815400Z",
     "iopub.status.idle": "2024-09-30T11:06:53.842271Z",
     "shell.execute_reply": "2024-09-30T11:06:53.840656Z"
    },
    "papermill": {
     "duration": 0.1036,
     "end_time": "2024-09-30T11:06:53.844990",
     "exception": false,
     "start_time": "2024-09-30T11:06:53.741390",
     "status": "completed"
    },
    "tags": []
   },
   "outputs": [
    {
     "name": "stdout",
     "output_type": "stream",
     "text": [
      "Accuracy: 1.0\n",
      "Confusion Matrix:\n",
      " [[10  0  0]\n",
      " [ 0  9  0]\n",
      " [ 0  0 11]]\n",
      "Classification Report:\n",
      "               precision    recall  f1-score   support\n",
      "\n",
      "         0.0       1.00      1.00      1.00        10\n",
      "         1.0       1.00      1.00      1.00         9\n",
      "         2.0       1.00      1.00      1.00        11\n",
      "\n",
      "    accuracy                           1.00        30\n",
      "   macro avg       1.00      1.00      1.00        30\n",
      "weighted avg       1.00      1.00      1.00        30\n",
      "\n"
     ]
    }
   ],
   "source": [
    "# make predictions\n",
    "y_pred = log_reg.predict(X_test)\n",
    "\n",
    "# evaluate the model\n",
    "print(\"Accuracy:\", accuracy_score(y_test, y_pred))\n",
    "print(\"Confusion Matrix:\\n\", confusion_matrix(y_test, y_pred))\n",
    "print(\"Classification Report:\\n\", classification_report(y_test, y_pred))"
   ]
  },
  {
   "cell_type": "code",
   "execution_count": 36,
   "id": "26286f0c",
   "metadata": {
    "execution": {
     "iopub.execute_input": "2024-09-30T11:06:53.993113Z",
     "iopub.status.busy": "2024-09-30T11:06:53.992642Z",
     "iopub.status.idle": "2024-09-30T11:06:54.256778Z",
     "shell.execute_reply": "2024-09-30T11:06:54.255744Z"
    },
    "papermill": {
     "duration": 0.342326,
     "end_time": "2024-09-30T11:06:54.259094",
     "exception": false,
     "start_time": "2024-09-30T11:06:53.916768",
     "status": "completed"
    },
    "tags": []
   },
   "outputs": [
    {
     "data": {
      "image/png": "[encoded data removed]",
      "text/plain": [
       "<Figure size 640x480 with 2 Axes>"
      ]
     },
     "metadata": {},
     "output_type": "display_data"
    }
   ],
   "source": [
    "# plot the confusion matrix\n",
    "cm = confusion_matrix(y_test, y_pred)\n",
    "sns.heatmap(cm, annot=True, cmap=\"Blues\")\n",
    "plt.xlabel(\"Predicted\")\n",
    "plt.ylabel(\"True\")\n",
    "plt.title(\"Confusion Matrix\")\n",
    "plt.show()"
   ]
  },
  {
   "cell_type": "markdown",
   "id": "10c14d46",
   "metadata": {
    "papermill": {
     "duration": 0.070259,
     "end_time": "2024-09-30T11:06:54.400260",
     "exception": false,
     "start_time": "2024-09-30T11:06:54.330001",
     "status": "completed"
    },
    "tags": []
   },
   "source": [
    "### 2. Decision Tree Classifier\n"
   ]
  },
  {
   "cell_type": "code",
   "execution_count": 37,
   "id": "10e06b73",
   "metadata": {
    "execution": {
     "iopub.execute_input": "2024-09-30T11:06:54.544622Z",
     "iopub.status.busy": "2024-09-30T11:06:54.543654Z",
     "iopub.status.idle": "2024-09-30T11:06:54.556893Z",
     "shell.execute_reply": "2024-09-30T11:06:54.555734Z"
    },
    "papermill": {
     "duration": 0.087764,
     "end_time": "2024-09-30T11:06:54.559193",
     "exception": false,
     "start_time": "2024-09-30T11:06:54.471429",
     "status": "completed"
    },
    "tags": []
   },
   "outputs": [
    {
     "data": {
      "text/html": [
       "<style>#sk-container-id-2 {color: black;background-color: white;}#sk-container-id-2 pre{padding: 0;}#sk-container-id-2 div.sk-toggleable {background-color: white;}#sk-container-id-2 label.sk-toggleable__label {cursor: pointer;display: block;width: 100%;margin-bottom: 0;padding: 0.3em;box-sizing: border-box;text-align: center;}#sk-container-id-2 label.sk-toggleable__label-arrow:before {content: \"▸\";float: left;margin-right: 0.25em;color: #696969;}#sk-container-id-2 label.sk-toggleable__label-arrow:hover:before {color: black;}#sk-container-id-2 div.sk-estimator:hover label.sk-toggleable__label-arrow:before {color: black;}#sk-container-id-2 div.sk-toggleable__content {max-height: 0;max-width: 0;overflow: hidden;text-align: left;background-color: #f0f8ff;}#sk-container-id-2 div.sk-toggleable__content pre {margin: 0.2em;color: black;border-radius: 0.25em;background-color: #f0f8ff;}#sk-container-id-2 input.sk-toggleable__control:checked~div.sk-toggleable__content {max-height: 200px;max-width: 100%;overflow: auto;}#sk-container-id-2 input.sk-toggleable__control:checked~label.sk-toggleable__label-arrow:before {content: \"▾\";}#sk-container-id-2 div.sk-estimator input.sk-toggleable__control:checked~label.sk-toggleable__label {background-color: #d4ebff;}#sk-container-id-2 div.sk-label input.sk-toggleable__control:checked~label.sk-toggleable__label {background-color: #d4ebff;}#sk-container-id-2 input.sk-hidden--visually {border: 0;clip: rect(1px 1px 1px 1px);clip: rect(1px, 1px, 1px, 1px);height: 1px;margin: -1px;overflow: hidden;padding: 0;position: absolute;width: 1px;}#sk-container-id-2 div.sk-estimator {font-family: monospace;background-color: #f0f8ff;border: 1px dotted black;border-radius: 0.25em;box-sizing: border-box;margin-bottom: 0.5em;}#sk-container-id-2 div.sk-estimator:hover {background-color: #d4ebff;}#sk-container-id-2 div.sk-parallel-item::after {content: \"\";width: 100%;border-bottom: 1px solid gray;flex-grow: 1;}#sk-container-id-2 div.sk-label:hover label.sk-toggleable__label {background-color: #d4ebff;}#sk-container-id-2 div.sk-serial::before {content: \"\";position: absolute;border-left: 1px solid gray;box-sizing: border-box;top: 0;bottom: 0;left: 50%;z-index: 0;}#sk-container-id-2 div.sk-serial {display: flex;flex-direction: column;align-items: center;background-color: white;padding-right: 0.2em;padding-left: 0.2em;position: relative;}#sk-container-id-2 div.sk-item {position: relative;z-index: 1;}#sk-container-id-2 div.sk-parallel {display: flex;align-items: stretch;justify-content: center;background-color: white;position: relative;}#sk-container-id-2 div.sk-item::before, #sk-container-id-2 div.sk-parallel-item::before {content: \"\";position: absolute;border-left: 1px solid gray;box-sizing: border-box;top: 0;bottom: 0;left: 50%;z-index: -1;}#sk-container-id-2 div.sk-parallel-item {display: flex;flex-direction: column;z-index: 1;position: relative;background-color: white;}#sk-container-id-2 div.sk-parallel-item:first-child::after {align-self: flex-end;width: 50%;}#sk-container-id-2 div.sk-parallel-item:last-child::after {align-self: flex-start;width: 50%;}#sk-container-id-2 div.sk-parallel-item:only-child::after {width: 0;}#sk-container-id-2 div.sk-dashed-wrapped {border: 1px dashed gray;margin: 0 0.4em 0.5em 0.4em;box-sizing: border-box;padding-bottom: 0.4em;background-color: white;}#sk-container-id-2 div.sk-label label {font-family: monospace;font-weight: bold;display: inline-block;line-height: 1.2em;}#sk-container-id-2 div.sk-label-container {text-align: center;}#sk-container-id-2 div.sk-container {/* jupyter's `normalize.less` sets `[hidden] { display: none; }` but bootstrap.min.css set `[hidden] { display: none !important; }` so we also need the `!important` here to be able to override the default hidden behavior on the sphinx rendered scikit-learn.org. See: https://github.com/scikit-learn/scikit-learn/issues/21755 */display: inline-block !important;position: relative;}#sk-container-id-2 div.sk-text-repr-fallback {display: none;}</style><div id=\"sk-container-id-2\" class=\"sk-top-container\"><div class=\"sk-text-repr-fallback\"><pre>DecisionTreeClassifier()</pre><b>In a Jupyter environment, please rerun this cell to show the HTML representation or trust the notebook. <br />On GitHub, the HTML representation is unable to render, please try loading this page with nbviewer.org.</b></div><div class=\"sk-container\" hidden><div class=\"sk-item\"><div class=\"sk-estimator sk-toggleable\"><input class=\"sk-toggleable__control sk-hidden--visually\" id=\"sk-estimator-id-2\" type=\"checkbox\" checked><label for=\"sk-estimator-id-2\" class=\"sk-toggleable__label sk-toggleable__label-arrow\">DecisionTreeClassifier</label><div class=\"sk-toggleable__content\"><pre>DecisionTreeClassifier()</pre></div></div></div></div></div>"
      ],
      "text/plain": [
       "DecisionTreeClassifier()"
      ]
     },
     "execution_count": 37,
     "metadata": {},
     "output_type": "execute_result"
    }
   ],
   "source": [
    "from sklearn.tree import DecisionTreeClassifier\n",
    "\n",
    "# initialize the model\n",
    "dtc = DecisionTreeClassifier()\n",
    "\n",
    "# fit the model\n",
    "dtc.fit(X_train, y_train)"
   ]
  },
  {
   "cell_type": "code",
   "execution_count": 38,
   "id": "4266f4ad",
   "metadata": {
    "execution": {
     "iopub.execute_input": "2024-09-30T11:06:54.704014Z",
     "iopub.status.busy": "2024-09-30T11:06:54.703519Z",
     "iopub.status.idle": "2024-09-30T11:06:54.723302Z",
     "shell.execute_reply": "2024-09-30T11:06:54.722155Z"
    },
    "papermill": {
     "duration": 0.095539,
     "end_time": "2024-09-30T11:06:54.726074",
     "exception": false,
     "start_time": "2024-09-30T11:06:54.630535",
     "status": "completed"
    },
    "tags": []
   },
   "outputs": [
    {
     "name": "stdout",
     "output_type": "stream",
     "text": [
      "Accuracy: 1.0\n",
      "Confusion Matrix:\n",
      " [[10  0  0]\n",
      " [ 0  9  0]\n",
      " [ 0  0 11]]\n",
      "Classification Report:\n",
      "               precision    recall  f1-score   support\n",
      "\n",
      "         0.0       1.00      1.00      1.00        10\n",
      "         1.0       1.00      1.00      1.00         9\n",
      "         2.0       1.00      1.00      1.00        11\n",
      "\n",
      "    accuracy                           1.00        30\n",
      "   macro avg       1.00      1.00      1.00        30\n",
      "weighted avg       1.00      1.00      1.00        30\n",
      "\n"
     ]
    }
   ],
   "source": [
    "# predict the model\n",
    "y_pred = dtc.predict(X_test)\n",
    "\n",
    "# evaluate the model\n",
    "print(\"Accuracy:\", accuracy_score(y_test, y_pred))\n",
    "print(\"Confusion Matrix:\\n\", confusion_matrix(y_test, y_pred))\n",
    "print(\"Classification Report:\\n\", classification_report(y_test, y_pred))"
   ]
  },
  {
   "cell_type": "code",
   "execution_count": 39,
   "id": "5c81b1d9",
   "metadata": {
    "execution": {
     "iopub.execute_input": "2024-09-30T11:06:54.871200Z",
     "iopub.status.busy": "2024-09-30T11:06:54.870765Z",
     "iopub.status.idle": "2024-09-30T11:06:55.143217Z",
     "shell.execute_reply": "2024-09-30T11:06:55.142123Z"
    },
    "papermill": {
     "duration": 0.347598,
     "end_time": "2024-09-30T11:06:55.146033",
     "exception": false,
     "start_time": "2024-09-30T11:06:54.798435",
     "status": "completed"
    },
    "tags": []
   },
   "outputs": [
    {
     "data": {
      "image/png": "[encoded data removed]",
      "text/plain": [
       "<Figure size 640x480 with 2 Axes>"
      ]
     },
     "metadata": {},
     "output_type": "display_data"
    }
   ],
   "source": [
    "# plot confusion matrix\n",
    "cm = confusion_matrix(y_test, y_pred)\n",
    "sns.heatmap(cm, annot=True, cmap=\"Blues\")\n",
    "plt.xlabel(\"Predicted\")\n",
    "plt.ylabel(\"True\")\n",
    "plt.title(\"Confusion Matrix\")\n",
    "plt.show()"
   ]
  },
  {
   "cell_type": "markdown",
   "id": "73302e86",
   "metadata": {
    "papermill": {
     "duration": 0.071292,
     "end_time": "2024-09-30T11:06:55.290988",
     "exception": false,
     "start_time": "2024-09-30T11:06:55.219696",
     "status": "completed"
    },
    "tags": []
   },
   "source": [
    "### 3. Support Vector Machine (SVM)\n"
   ]
  },
  {
   "cell_type": "code",
   "execution_count": 40,
   "id": "5c2bd0b6",
   "metadata": {
    "execution": {
     "iopub.execute_input": "2024-09-30T11:06:55.437754Z",
     "iopub.status.busy": "2024-09-30T11:06:55.437281Z",
     "iopub.status.idle": "2024-09-30T11:06:55.452426Z",
     "shell.execute_reply": "2024-09-30T11:06:55.450995Z"
    },
    "papermill": {
     "duration": 0.092802,
     "end_time": "2024-09-30T11:06:55.455335",
     "exception": false,
     "start_time": "2024-09-30T11:06:55.362533",
     "status": "completed"
    },
    "tags": []
   },
   "outputs": [
    {
     "data": {
      "text/html": [
       "<style>#sk-container-id-3 {color: black;background-color: white;}#sk-container-id-3 pre{padding: 0;}#sk-container-id-3 div.sk-toggleable {background-color: white;}#sk-container-id-3 label.sk-toggleable__label {cursor: pointer;display: block;width: 100%;margin-bottom: 0;padding: 0.3em;box-sizing: border-box;text-align: center;}#sk-container-id-3 label.sk-toggleable__label-arrow:before {content: \"▸\";float: left;margin-right: 0.25em;color: #696969;}#sk-container-id-3 label.sk-toggleable__label-arrow:hover:before {color: black;}#sk-container-id-3 div.sk-estimator:hover label.sk-toggleable__label-arrow:before {color: black;}#sk-container-id-3 div.sk-toggleable__content {max-height: 0;max-width: 0;overflow: hidden;text-align: left;background-color: #f0f8ff;}#sk-container-id-3 div.sk-toggleable__content pre {margin: 0.2em;color: black;border-radius: 0.25em;background-color: #f0f8ff;}#sk-container-id-3 input.sk-toggleable__control:checked~div.sk-toggleable__content {max-height: 200px;max-width: 100%;overflow: auto;}#sk-container-id-3 input.sk-toggleable__control:checked~label.sk-toggleable__label-arrow:before {content: \"▾\";}#sk-container-id-3 div.sk-estimator input.sk-toggleable__control:checked~label.sk-toggleable__label {background-color: #d4ebff;}#sk-container-id-3 div.sk-label input.sk-toggleable__control:checked~label.sk-toggleable__label {background-color: #d4ebff;}#sk-container-id-3 input.sk-hidden--visually {border: 0;clip: rect(1px 1px 1px 1px);clip: rect(1px, 1px, 1px, 1px);height: 1px;margin: -1px;overflow: hidden;padding: 0;position: absolute;width: 1px;}#sk-container-id-3 div.sk-estimator {font-family: monospace;background-color: #f0f8ff;border: 1px dotted black;border-radius: 0.25em;box-sizing: border-box;margin-bottom: 0.5em;}#sk-container-id-3 div.sk-estimator:hover {background-color: #d4ebff;}#sk-container-id-3 div.sk-parallel-item::after {content: \"\";width: 100%;border-bottom: 1px solid gray;flex-grow: 1;}#sk-container-id-3 div.sk-label:hover label.sk-toggleable__label {background-color: #d4ebff;}#sk-container-id-3 div.sk-serial::before {content: \"\";position: absolute;border-left: 1px solid gray;box-sizing: border-box;top: 0;bottom: 0;left: 50%;z-index: 0;}#sk-container-id-3 div.sk-serial {display: flex;flex-direction: column;align-items: center;background-color: white;padding-right: 0.2em;padding-left: 0.2em;position: relative;}#sk-container-id-3 div.sk-item {position: relative;z-index: 1;}#sk-container-id-3 div.sk-parallel {display: flex;align-items: stretch;justify-content: center;background-color: white;position: relative;}#sk-container-id-3 div.sk-item::before, #sk-container-id-3 div.sk-parallel-item::before {content: \"\";position: absolute;border-left: 1px solid gray;box-sizing: border-box;top: 0;bottom: 0;left: 50%;z-index: -1;}#sk-container-id-3 div.sk-parallel-item {display: flex;flex-direction: column;z-index: 1;position: relative;background-color: white;}#sk-container-id-3 div.sk-parallel-item:first-child::after {align-self: flex-end;width: 50%;}#sk-container-id-3 div.sk-parallel-item:last-child::after {align-self: flex-start;width: 50%;}#sk-container-id-3 div.sk-parallel-item:only-child::after {width: 0;}#sk-container-id-3 div.sk-dashed-wrapped {border: 1px dashed gray;margin: 0 0.4em 0.5em 0.4em;box-sizing: border-box;padding-bottom: 0.4em;background-color: white;}#sk-container-id-3 div.sk-label label {font-family: monospace;font-weight: bold;display: inline-block;line-height: 1.2em;}#sk-container-id-3 div.sk-label-container {text-align: center;}#sk-container-id-3 div.sk-container {/* jupyter's `normalize.less` sets `[hidden] { display: none; }` but bootstrap.min.css set `[hidden] { display: none !important; }` so we also need the `!important` here to be able to override the default hidden behavior on the sphinx rendered scikit-learn.org. See: https://github.com/scikit-learn/scikit-learn/issues/21755 */display: inline-block !important;position: relative;}#sk-container-id-3 div.sk-text-repr-fallback {display: none;}</style><div id=\"sk-container-id-3\" class=\"sk-top-container\"><div class=\"sk-text-repr-fallback\"><pre>SVC()</pre><b>In a Jupyter environment, please rerun this cell to show the HTML representation or trust the notebook. <br />On GitHub, the HTML representation is unable to render, please try loading this page with nbviewer.org.</b></div><div class=\"sk-container\" hidden><div class=\"sk-item\"><div class=\"sk-estimator sk-toggleable\"><input class=\"sk-toggleable__control sk-hidden--visually\" id=\"sk-estimator-id-3\" type=\"checkbox\" checked><label for=\"sk-estimator-id-3\" class=\"sk-toggleable__label sk-toggleable__label-arrow\">SVC</label><div class=\"sk-toggleable__content\"><pre>SVC()</pre></div></div></div></div></div>"
      ],
      "text/plain": [
       "SVC()"
      ]
     },
     "execution_count": 40,
     "metadata": {},
     "output_type": "execute_result"
    }
   ],
   "source": [
    "from sklearn.svm import SVC\n",
    "\n",
    "# initialize the model\n",
    "svm = SVC()\n",
    "\n",
    "# fit the model\n",
    "svm.fit(X_train, y_train)"
   ]
  },
  {
   "cell_type": "code",
   "execution_count": 41,
   "id": "4bb08220",
   "metadata": {
    "execution": {
     "iopub.execute_input": "2024-09-30T11:06:55.601496Z",
     "iopub.status.busy": "2024-09-30T11:06:55.601076Z",
     "iopub.status.idle": "2024-09-30T11:06:55.622267Z",
     "shell.execute_reply": "2024-09-30T11:06:55.620573Z"
    },
    "papermill": {
     "duration": 0.09692,
     "end_time": "2024-09-30T11:06:55.624861",
     "exception": false,
     "start_time": "2024-09-30T11:06:55.527941",
     "status": "completed"
    },
    "tags": []
   },
   "outputs": [
    {
     "name": "stdout",
     "output_type": "stream",
     "text": [
      "Accuracy: 1.0\n",
      "Confusion Matrix:\n",
      " [[10  0  0]\n",
      " [ 0  9  0]\n",
      " [ 0  0 11]]\n",
      "Classification Report:\n",
      "               precision    recall  f1-score   support\n",
      "\n",
      "         0.0       1.00      1.00      1.00        10\n",
      "         1.0       1.00      1.00      1.00         9\n",
      "         2.0       1.00      1.00      1.00        11\n",
      "\n",
      "    accuracy                           1.00        30\n",
      "   macro avg       1.00      1.00      1.00        30\n",
      "weighted avg       1.00      1.00      1.00        30\n",
      "\n"
     ]
    }
   ],
   "source": [
    "# make predictions\n",
    "y_pred = svm.predict(X_test)\n",
    "\n",
    "# evaluate the model\n",
    "print(\"Accuracy:\", accuracy_score(y_test, y_pred))\n",
    "print(\"Confusion Matrix:\\n\", confusion_matrix(y_test, y_pred))\n",
    "print(\"Classification Report:\\n\", classification_report(y_test, y_pred))"
   ]
  },
  {
   "cell_type": "markdown",
   "id": "0dd6dc7d",
   "metadata": {
    "papermill": {
     "duration": 0.071916,
     "end_time": "2024-09-30T11:06:55.770630",
     "exception": false,
     "start_time": "2024-09-30T11:06:55.698714",
     "status": "completed"
    },
    "tags": []
   },
   "source": [
    "### 4. k-Nearest Neighbors (k-NN)\n"
   ]
  },
  {
   "cell_type": "code",
   "execution_count": 42,
   "id": "2aaa8125",
   "metadata": {
    "execution": {
     "iopub.execute_input": "2024-09-30T11:06:55.918245Z",
     "iopub.status.busy": "2024-09-30T11:06:55.917768Z",
     "iopub.status.idle": "2024-09-30T11:06:55.930767Z",
     "shell.execute_reply": "2024-09-30T11:06:55.929533Z"
    },
    "papermill": {
     "duration": 0.089254,
     "end_time": "2024-09-30T11:06:55.933424",
     "exception": false,
     "start_time": "2024-09-30T11:06:55.844170",
     "status": "completed"
    },
    "tags": []
   },
   "outputs": [
    {
     "data": {
      "text/html": [
       "<style>#sk-container-id-4 {color: black;background-color: white;}#sk-container-id-4 pre{padding: 0;}#sk-container-id-4 div.sk-toggleable {background-color: white;}#sk-container-id-4 label.sk-toggleable__label {cursor: pointer;display: block;width: 100%;margin-bottom: 0;padding: 0.3em;box-sizing: border-box;text-align: center;}#sk-container-id-4 label.sk-toggleable__label-arrow:before {content: \"▸\";float: left;margin-right: 0.25em;color: #696969;}#sk-container-id-4 label.sk-toggleable__label-arrow:hover:before {color: black;}#sk-container-id-4 div.sk-estimator:hover label.sk-toggleable__label-arrow:before {color: black;}#sk-container-id-4 div.sk-toggleable__content {max-height: 0;max-width: 0;overflow: hidden;text-align: left;background-color: #f0f8ff;}#sk-container-id-4 div.sk-toggleable__content pre {margin: 0.2em;color: black;border-radius: 0.25em;background-color: #f0f8ff;}#sk-container-id-4 input.sk-toggleable__control:checked~div.sk-toggleable__content {max-height: 200px;max-width: 100%;overflow: auto;}#sk-container-id-4 input.sk-toggleable__control:checked~label.sk-toggleable__label-arrow:before {content: \"▾\";}#sk-container-id-4 div.sk-estimator input.sk-toggleable__control:checked~label.sk-toggleable__label {background-color: #d4ebff;}#sk-container-id-4 div.sk-label input.sk-toggleable__control:checked~label.sk-toggleable__label {background-color: #d4ebff;}#sk-container-id-4 input.sk-hidden--visually {border: 0;clip: rect(1px 1px 1px 1px);clip: rect(1px, 1px, 1px, 1px);height: 1px;margin: -1px;overflow: hidden;padding: 0;position: absolute;width: 1px;}#sk-container-id-4 div.sk-estimator {font-family: monospace;background-color: #f0f8ff;border: 1px dotted black;border-radius: 0.25em;box-sizing: border-box;margin-bottom: 0.5em;}#sk-container-id-4 div.sk-estimator:hover {background-color: #d4ebff;}#sk-container-id-4 div.sk-parallel-item::after {content: \"\";width: 100%;border-bottom: 1px solid gray;flex-grow: 1;}#sk-container-id-4 div.sk-label:hover label.sk-toggleable__label {background-color: #d4ebff;}#sk-container-id-4 div.sk-serial::before {content: \"\";position: absolute;border-left: 1px solid gray;box-sizing: border-box;top: 0;bottom: 0;left: 50%;z-index: 0;}#sk-container-id-4 div.sk-serial {display: flex;flex-direction: column;align-items: center;background-color: white;padding-right: 0.2em;padding-left: 0.2em;position: relative;}#sk-container-id-4 div.sk-item {position: relative;z-index: 1;}#sk-container-id-4 div.sk-parallel {display: flex;align-items: stretch;justify-content: center;background-color: white;position: relative;}#sk-container-id-4 div.sk-item::before, #sk-container-id-4 div.sk-parallel-item::before {content: \"\";position: absolute;border-left: 1px solid gray;box-sizing: border-box;top: 0;bottom: 0;left: 50%;z-index: -1;}#sk-container-id-4 div.sk-parallel-item {display: flex;flex-direction: column;z-index: 1;position: relative;background-color: white;}#sk-container-id-4 div.sk-parallel-item:first-child::after {align-self: flex-end;width: 50%;}#sk-container-id-4 div.sk-parallel-item:last-child::after {align-self: flex-start;width: 50%;}#sk-container-id-4 div.sk-parallel-item:only-child::after {width: 0;}#sk-container-id-4 div.sk-dashed-wrapped {border: 1px dashed gray;margin: 0 0.4em 0.5em 0.4em;box-sizing: border-box;padding-bottom: 0.4em;background-color: white;}#sk-container-id-4 div.sk-label label {font-family: monospace;font-weight: bold;display: inline-block;line-height: 1.2em;}#sk-container-id-4 div.sk-label-container {text-align: center;}#sk-container-id-4 div.sk-container {/* jupyter's `normalize.less` sets `[hidden] { display: none; }` but bootstrap.min.css set `[hidden] { display: none !important; }` so we also need the `!important` here to be able to override the default hidden behavior on the sphinx rendered scikit-learn.org. See: https://github.com/scikit-learn/scikit-learn/issues/21755 */display: inline-block !important;position: relative;}#sk-container-id-4 div.sk-text-repr-fallback {display: none;}</style><div id=\"sk-container-id-4\" class=\"sk-top-container\"><div class=\"sk-text-repr-fallback\"><pre>KNeighborsClassifier(n_neighbors=3)</pre><b>In a Jupyter environment, please rerun this cell to show the HTML representation or trust the notebook. <br />On GitHub, the HTML representation is unable to render, please try loading this page with nbviewer.org.</b></div><div class=\"sk-container\" hidden><div class=\"sk-item\"><div class=\"sk-estimator sk-toggleable\"><input class=\"sk-toggleable__control sk-hidden--visually\" id=\"sk-estimator-id-4\" type=\"checkbox\" checked><label for=\"sk-estimator-id-4\" class=\"sk-toggleable__label sk-toggleable__label-arrow\">KNeighborsClassifier</label><div class=\"sk-toggleable__content\"><pre>KNeighborsClassifier(n_neighbors=3)</pre></div></div></div></div></div>"
      ],
      "text/plain": [
       "KNeighborsClassifier(n_neighbors=3)"
      ]
     },
     "execution_count": 42,
     "metadata": {},
     "output_type": "execute_result"
    }
   ],
   "source": [
    "from sklearn.neighbors import KNeighborsClassifier\n",
    "\n",
    "# Initialize the model with k=3\n",
    "knn = KNeighborsClassifier(n_neighbors=3)\n",
    "\n",
    "# Fit the model\n",
    "knn.fit(X_train, y_train)"
   ]
  },
  {
   "cell_type": "code",
   "execution_count": 43,
   "id": "fa060b50",
   "metadata": {
    "execution": {
     "iopub.execute_input": "2024-09-30T11:06:56.144670Z",
     "iopub.status.busy": "2024-09-30T11:06:56.144213Z",
     "iopub.status.idle": "2024-09-30T11:06:56.170375Z",
     "shell.execute_reply": "2024-09-30T11:06:56.168835Z"
    },
    "papermill": {
     "duration": 0.102472,
     "end_time": "2024-09-30T11:06:56.173004",
     "exception": false,
     "start_time": "2024-09-30T11:06:56.070532",
     "status": "completed"
    },
    "tags": []
   },
   "outputs": [
    {
     "name": "stdout",
     "output_type": "stream",
     "text": [
      "k-NN Accuracy: 1.0\n",
      "k-NN Confusion Matrix:\n",
      " [[10  0  0]\n",
      " [ 0  9  0]\n",
      " [ 0  0 11]]\n",
      "k-NN Classification Report:\n",
      "               precision    recall  f1-score   support\n",
      "\n",
      "         0.0       1.00      1.00      1.00        10\n",
      "         1.0       1.00      1.00      1.00         9\n",
      "         2.0       1.00      1.00      1.00        11\n",
      "\n",
      "    accuracy                           1.00        30\n",
      "   macro avg       1.00      1.00      1.00        30\n",
      "weighted avg       1.00      1.00      1.00        30\n",
      "\n"
     ]
    }
   ],
   "source": [
    "# Make predictions\n",
    "y_pred_knn = knn.predict(X_test)\n",
    "\n",
    "# Evaluation\n",
    "print(\"k-NN Accuracy:\", accuracy_score(y_test, y_pred_knn))\n",
    "print(\"k-NN Confusion Matrix:\\n\", confusion_matrix(y_test, y_pred_knn))\n",
    "print(\"k-NN Classification Report:\\n\", classification_report(y_test, y_pred_knn))"
   ]
  },
  {
   "cell_type": "markdown",
   "id": "6c37d109",
   "metadata": {
    "papermill": {
     "duration": 0.072812,
     "end_time": "2024-09-30T11:06:56.320372",
     "exception": false,
     "start_time": "2024-09-30T11:06:56.247560",
     "status": "completed"
    },
    "tags": []
   },
   "source": [
    "## Model Compasrion\n"
   ]
  },
  {
   "cell_type": "code",
   "execution_count": 44,
   "id": "f1b71def",
   "metadata": {
    "execution": {
     "iopub.execute_input": "2024-09-30T11:06:56.470621Z",
     "iopub.status.busy": "2024-09-30T11:06:56.470066Z",
     "iopub.status.idle": "2024-09-30T11:06:56.545644Z",
     "shell.execute_reply": "2024-09-30T11:06:56.544243Z"
    },
    "papermill": {
     "duration": 0.154684,
     "end_time": "2024-09-30T11:06:56.548300",
     "exception": false,
     "start_time": "2024-09-30T11:06:56.393616",
     "status": "completed"
    },
    "tags": []
   },
   "outputs": [
    {
     "name": "stdout",
     "output_type": "stream",
     "text": [
      "\n",
      "--- Logistic Regression ---\n",
      "Accuracy: 1.0000\n",
      "Classification Report:\n",
      "              precision    recall  f1-score   support\n",
      "\n",
      "         0.0       1.00      1.00      1.00        10\n",
      "         1.0       1.00      1.00      1.00         9\n",
      "         2.0       1.00      1.00      1.00        11\n",
      "\n",
      "    accuracy                           1.00        30\n",
      "   macro avg       1.00      1.00      1.00        30\n",
      "weighted avg       1.00      1.00      1.00        30\n",
      "\n",
      "Confusion Matrix:\n",
      "[[10  0  0]\n",
      " [ 0  9  0]\n",
      " [ 0  0 11]]\n",
      "\n",
      "--- Decision Tree ---\n",
      "Accuracy: 1.0000\n",
      "Classification Report:\n",
      "              precision    recall  f1-score   support\n",
      "\n",
      "         0.0       1.00      1.00      1.00        10\n",
      "         1.0       1.00      1.00      1.00         9\n",
      "         2.0       1.00      1.00      1.00        11\n",
      "\n",
      "    accuracy                           1.00        30\n",
      "   macro avg       1.00      1.00      1.00        30\n",
      "weighted avg       1.00      1.00      1.00        30\n",
      "\n",
      "Confusion Matrix:\n",
      "[[10  0  0]\n",
      " [ 0  9  0]\n",
      " [ 0  0 11]]\n",
      "\n",
      "--- SVM ---\n",
      "Accuracy: 1.0000\n",
      "Classification Report:\n",
      "              precision    recall  f1-score   support\n",
      "\n",
      "         0.0       1.00      1.00      1.00        10\n",
      "         1.0       1.00      1.00      1.00         9\n",
      "         2.0       1.00      1.00      1.00        11\n",
      "\n",
      "    accuracy                           1.00        30\n",
      "   macro avg       1.00      1.00      1.00        30\n",
      "weighted avg       1.00      1.00      1.00        30\n",
      "\n",
      "Confusion Matrix:\n",
      "[[10  0  0]\n",
      " [ 0  9  0]\n",
      " [ 0  0 11]]\n",
      "\n",
      "--- k-NN ---\n",
      "Accuracy: 1.0000\n",
      "Classification Report:\n",
      "              precision    recall  f1-score   support\n",
      "\n",
      "         0.0       1.00      1.00      1.00        10\n",
      "         1.0       1.00      1.00      1.00         9\n",
      "         2.0       1.00      1.00      1.00        11\n",
      "\n",
      "    accuracy                           1.00        30\n",
      "   macro avg       1.00      1.00      1.00        30\n",
      "weighted avg       1.00      1.00      1.00        30\n",
      "\n",
      "Confusion Matrix:\n",
      "[[10  0  0]\n",
      " [ 0  9  0]\n",
      " [ 0  0 11]]\n"
     ]
    }
   ],
   "source": [
    "from sklearn.metrics import accuracy_score, classification_report, confusion_matrix\n",
    "\n",
    "# Initialize all models again for convenience (already done, but just summarizing)\n",
    "logreg = LogisticRegression()\n",
    "dtree = DecisionTreeClassifier(random_state=42)\n",
    "svm_model = SVC()\n",
    "knn = KNeighborsClassifier(n_neighbors=3)\n",
    "\n",
    "# Fit all models\n",
    "models = {\n",
    "    \"Logistic Regression\": logreg,\n",
    "    \"Decision Tree\": dtree,\n",
    "    \"SVM\": svm_model,\n",
    "    \"k-NN\": knn\n",
    "}\n",
    "\n",
    "# Train each model and evaluate\n",
    "for model_name, model in models.items():\n",
    "    # Fit the model\n",
    "    model.fit(X_train, y_train)\n",
    "    \n",
    "    # Predict on the test set\n",
    "    y_pred = model.predict(X_test)\n",
    "    \n",
    "    # Evaluate\n",
    "    print(f\"\\n--- {model_name} ---\")\n",
    "    print(f\"Accuracy: {accuracy_score(y_test, y_pred):.4f}\")\n",
    "    print(f\"Classification Report:\\n{classification_report(y_test, y_pred)}\")\n",
    "    print(f\"Confusion Matrix:\\n{confusion_matrix(y_test, y_pred)}\")\n"
   ]
  },
  {
   "cell_type": "markdown",
   "id": "9201c918",
   "metadata": {
    "papermill": {
     "duration": 0.073748,
     "end_time": "2024-09-30T11:06:56.697089",
     "exception": false,
     "start_time": "2024-09-30T11:06:56.623341",
     "status": "completed"
    },
    "tags": []
   },
   "source": [
    "---\n"
   ]
  },
  {
   "cell_type": "markdown",
   "id": "bf3b07d3",
   "metadata": {
    "papermill": {
     "duration": 0.072037,
     "end_time": "2024-09-30T11:06:56.842194",
     "exception": false,
     "start_time": "2024-09-30T11:06:56.770157",
     "status": "completed"
    },
    "tags": []
   },
   "source": [
    "## Conclusion and Insights\n",
    "\n",
    "-   **Simple Dataset**: The Iris dataset is small and well-structured, with clear separations between species based on features.\n",
    "\n",
    "-   **Distinct Features**: Petal length and petal width are strong indicators that effectively differentiate the species.\n",
    "\n",
    "-   **Balanced Classes**: The dataset contains an equal number of samples for each species, preventing class imbalance issues.\n",
    "\n",
    "-   **Low Complexity**: The relationships among features are relatively simple, making it easier for models to capture patterns.\n",
    "\n",
    "-   **Effective Algorithms**: All tested algorithms (Logistic Regression, Decision Tree, SVM, k-NN) are capable of perfectly fitting the training data.\n",
    "\n",
    "-   **No Noise**: The dataset appears to have minimal noise or outliers, contributing to clearer decision boundaries for classification.\n",
    "\n",
    "-   **Training Size**: The small size of the dataset allows for memorization by the models, leading to perfect accuracy on the training data.\n"
   ]
  }
 ],
 "metadata": {
  "kaggle": {
   "accelerator": "none",
   "dataSources": [
    {
     "datasetId": 2354152,
     "sourceId": 3966491,
     "sourceType": "datasetVersion"
    }
   ],
   "dockerImageVersionId": 30775,
   "isGpuEnabled": false,
   "isInternetEnabled": true,
   "language": "python",
   "sourceType": "notebook"
  },
  "kernelspec": {
   "display_name": "Python 3",
   "language": "python",
   "name": "python3"
  },
  "language_info": {
   "codemirror_mode": {
    "name": "ipython",
    "version": 3
   },
   "file_extension": ".py",
   "mimetype": "text/x-python",
   "name": "python",
   "nbconvert_exporter": "python",
   "pygments_lexer": "ipython3",
   "version": "3.10.14"
  },
  "papermill": {
   "default_parameters": {},
   "duration": 48.015522,
   "end_time": "2024-09-30T11:06:58.395279",
   "environment_variables": {},
   "exception": null,
   "input_path": "__notebook__.ipynb",
   "output_path": "__notebook__.ipynb",
   "parameters": {},
   "start_time": "2024-09-30T11:06:10.379757",
   "version": "2.6.0"
  }
 },
 "nbformat": 4,
 "nbformat_minor": 5
}
